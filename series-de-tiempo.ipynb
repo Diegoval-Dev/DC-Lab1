{
 "cells": [
  {
   "cell_type": "markdown",
   "id": "e0d43fc6",
   "metadata": {},
   "source": [
    "# Laboratorio 01 – Series de Tiempo  \n",
    "**CC3084 – Data Science**, Semestre II 2025  \n",
    "**Integrantes:** Diego Valenzuela 22309, Gerson Ramirez 22281\n",
    "**Guatemala, Julio 2025**\n"
   ]
  }
 ],
 "metadata": {
  "language_info": {
   "name": "python"
  }
 },
 "nbformat": 4,
 "nbformat_minor": 5
}
